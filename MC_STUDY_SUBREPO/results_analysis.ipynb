{
 "cells": [
  {
   "cell_type": "code",
   "execution_count": 1,
   "metadata": {},
   "outputs": [],
   "source": [
    "import pandas as pd\n",
    "import os\n",
    "import pickle\n",
    "import numpy as np\n",
    "import plotly.graph_objects as go\n",
    "import matplotlib.pyplot as plt\n",
    "\n",
    "from prod_mc_config import prod_mc_config"
   ]
  },
  {
   "cell_type": "code",
   "execution_count": 2,
   "metadata": {},
   "outputs": [],
   "source": [
    "def calculate_variability_and_range(df, target_col):\n",
    "    \"\"\"\n",
    "    Generalized function to compute variability (std) and range for one column while fixing others.\n",
    "\n",
    "    Parameters:\n",
    "        df (pd.DataFrame): Input dataframe.\n",
    "        target_col (str): Column to calculate variability and range for.\n",
    "\n",
    "    Returns:\n",
    "        tuple: Two lists - variability and range for the target column.\n",
    "    \"\"\"\n",
    "    c_variability = []\n",
    "    c_range = []\n",
    "    argmin = []\n",
    "\n",
    "    other_columns = [\n",
    "        col\n",
    "        for col in df.columns\n",
    "        if col != target_col and col != \"MAE_avg\" and col != \"text\"\n",
    "    ]\n",
    "\n",
    "    # Iterate over unique combinations of other columns\n",
    "    for combination in df.groupby(other_columns):\n",
    "        group_df = combination[1]  # This is the subset dataframe\n",
    "\n",
    "        # Calculate variability and range for the target column\n",
    "        std_dev = group_df[\"MAE_avg\"].std()\n",
    "        value_range = group_df[\"MAE_avg\"].max() - group_df[\"MAE_avg\"].min()\n",
    "\n",
    "        c_variability.append(std_dev)\n",
    "        c_range.append(value_range)\n",
    "        argmin.append(group_df[\"MAE_avg\"].argmin())\n",
    "\n",
    "    return c_variability, c_range, argmin"
   ]
  },
  {
   "cell_type": "markdown",
   "metadata": {},
   "source": [
    "# MAE results"
   ]
  },
  {
   "cell_type": "code",
   "execution_count": 30,
   "metadata": {},
   "outputs": [],
   "source": [
    "all_results = os.listdir(os.path.join(\"MC_RESULTS\", \"CV_MC_STUDY\"))\n",
    "\n",
    "all_dfs = []\n",
    "index = []\n",
    "for results_dir in all_results:\n",
    "    for file in os.listdir(os.path.join(\"MC_RESULTS\", \"CV_MC_STUDY\", results_dir)):\n",
    "        if file.endswith(\".csv\"):\n",
    "            results_df = pd.read_csv(\n",
    "                os.path.join(\"MC_RESULTS\", \"CV_MC_STUDY\", results_dir, file),\n",
    "                index_col=0,\n",
    "            )\n",
    "            results_df.columns = [\n",
    "                \"MAE OLS\",\n",
    "                \"MAE SVR\",\n",
    "                \"MAE cSVR\",\n",
    "                \"MAE ccSVR\",\n",
    "                \"insample MAE OLS\",\n",
    "                \"insample MAE SVR\",\n",
    "                \"insample MAE cSVR\",\n",
    "                \"insample MAE ccSVR\",\n",
    "                \"alignment SVR\",\n",
    "                \"alignment cSVR\",\n",
    "                \"alignment ccSVR\",\n",
    "            ]\n",
    "            results_df = results_df.round(3)\n",
    "            # mark the min MAE, min insample MAE and max alignment\n",
    "            mae_cols = [\"MAE OLS\", \"MAE SVR\", \"MAE cSVR\", \"MAE ccSVR\"]\n",
    "            insample_mae_cols = [\n",
    "                \"insample MAE OLS\",\n",
    "                \"insample MAE SVR\",\n",
    "                \"insample MAE cSVR\",\n",
    "                \"insample MAE ccSVR\",\n",
    "            ]\n",
    "            align_cols = [\"alignment SVR\", \"alignment cSVR\", \"alignment ccSVR\"]\n",
    "            for row_idx, row in enumerate(results_df.iterrows()):\n",
    "                min_arg_mae = row[1][mae_cols].argmin()\n",
    "                results_df.loc[row_idx, mae_cols[min_arg_mae]] = (\n",
    "                    str(results_df.loc[row_idx, mae_cols[min_arg_mae]]) + \"*\"\n",
    "                )\n",
    "\n",
    "                min_arg_insample_mae = row[1][insample_mae_cols].argmin()\n",
    "                results_df.loc[row_idx, insample_mae_cols[min_arg_insample_mae]] = (\n",
    "                    str(\n",
    "                        results_df.loc[row_idx, insample_mae_cols[min_arg_insample_mae]]\n",
    "                    )\n",
    "                    + \"*\"\n",
    "                )\n",
    "\n",
    "                max_align = row[1][align_cols].argmax()\n",
    "                results_df.loc[row_idx, align_cols[max_align]] = (\n",
    "                    str(results_df.loc[row_idx, align_cols[max_align]]) + \"*\"\n",
    "                )\n",
    "\n",
    "            index_str = results_dir.split(\"_\")[0]\n",
    "            if results_dir.split(\"_\")[1] == \"exp\":\n",
    "                index_str += \" exp \"\n",
    "            if \"noshock\" not in results_dir:\n",
    "                index_str += \" shocked \"\n",
    "            index_str += \" \" + results_dir.split(\"params_set\")[1].split(\"_\")[1]\n",
    "            index.append(index_str)\n",
    "            all_dfs.append(results_df)\n",
    "\n",
    "total_result = pd.concat(all_dfs)\n",
    "total_result.index = index\n",
    "\n",
    "total_result.to_csv(\"ANALYSIS_TABLES/MC_study_MAE_results.csv\")"
   ]
  },
  {
   "cell_type": "markdown",
   "metadata": {},
   "source": [
    "# CV results analysis"
   ]
  },
  {
   "cell_type": "code",
   "execution_count": 4,
   "metadata": {},
   "outputs": [],
   "source": [
    "all_results = os.listdir(os.path.join(\"MC_RESULTS\", \"CV_MC_STUDY\"))\n",
    "\n",
    "all_c01_maes = []\n",
    "all_c1_maes = []\n",
    "all_c3_maes = []\n",
    "\n",
    "all_dfs = []\n",
    "index = []\n",
    "\n",
    "for results_dir in all_results:\n",
    "    cv_mae = None\n",
    "    parameters = None\n",
    "    for file in os.listdir(os.path.join(\"MC_RESULTS\", \"CV_MC_STUDY\", results_dir)):\n",
    "        if file.endswith(\"_mae.pickle\"):\n",
    "            with open(\n",
    "                os.path.join(\"MC_RESULTS\", \"CV_MC_STUDY\", results_dir, file), \"rb\"\n",
    "            ) as pickle_file:  # 'rb' means read in binary mode\n",
    "                cv_mae = pickle.load(pickle_file)\n",
    "        if file.endswith(\"_parameters.pickle\"):\n",
    "            with open(\n",
    "                os.path.join(\"MC_RESULTS\", \"CV_MC_STUDY\", results_dir, file), \"rb\"\n",
    "            ) as pickle_file:  # 'rb' means read in binary mode\n",
    "                parameters = pickle.load(pickle_file)\n",
    "\n",
    "    intermediate_results_df = pd.DataFrame()\n",
    "    for model in [\"SVR\", \"cSVR\", \"ccSVR\"]:\n",
    "        results_df = pd.DataFrame(parameters[model])\n",
    "        results_df[\"MAE_avg\"] = np.array(cv_mae[model]).mean(axis=0)\n",
    "        for col in results_df.columns:\n",
    "            if col not in [\"text\", \"MAE_avg\"]:\n",
    "                # print(model)\n",
    "                # print(col)\n",
    "                std, vals_range, vals_argmin = calculate_variability_and_range(\n",
    "                    results_df, col\n",
    "                )\n",
    "                # print(np.mean(std))\n",
    "                # print(np.mean(vals_range))\n",
    "                # print(prod_mc_config['param_grid_slide_on_median'][col][int(np.median(vals_argmin))])\n",
    "\n",
    "                # plt.hist(vals_argmin)\n",
    "                # plt.show()\n",
    "                if (\n",
    "                    model == \"cSVR\" and col not in [\"q_kernel_naive\", \"q_data_naive\"]\n",
    "                ) or (\n",
    "                    model == \"ccSVR\"\n",
    "                    and col not in [\"q_kernel_div\", \"q_data_div\", \"div_impact\"]\n",
    "                ):\n",
    "                    continue\n",
    "                intermediate_results_df[\"Measure\"] = [\"std\", \"range\", \"median optimal\"]\n",
    "                intermediate_results_df[model + col] = [\n",
    "                    np.mean(std),\n",
    "                    np.mean(vals_range),\n",
    "                    prod_mc_config[\"param_grid_slide_on_median\"][col][\n",
    "                        int(np.median(vals_argmin))\n",
    "                    ],\n",
    "                ]\n",
    "    all_dfs.append(intermediate_results_df)\n",
    "\n",
    "    index_str = results_dir.split(\"_\")[0]\n",
    "    if results_dir.split(\"_\")[1] == \"exp\":\n",
    "        index_str += \" exp \"\n",
    "    if \"noshock\" not in results_dir:\n",
    "        index_str += \" shocked \"\n",
    "    index_str += \" \" + results_dir.split(\"params_set\")[1].split(\"_\")[1]\n",
    "    index.append(index_str)\n",
    "\n",
    "    #     q_kernel.append(d['q_kernel'])\n",
    "    #     q_data.append(d['q_data'])\n",
    "    #     epsilon.append(d['epsilon'])\n",
    "    #     C.append(d['C'])\n",
    "    # params_dict['q_kernel'] = q_kernel\n",
    "    # params_dict['q_data'] = q_data\n",
    "    # params_dict['epsilon'] = epsilon\n",
    "    # params_dict['C'] = C\n",
    "    # params_dict['MAE_avg'] = np.array(cv_mae['SVR']).mean(axis=0)\n",
    "    # params_dict['text'] = [str(params) for params in parameters['SVR']]\n",
    "\n",
    "    # all_c01_maes.append(params_dict.loc[params_dict.C == 0.1, 'MAE_avg'].mean())\n",
    "    # all_c1_maes.append(params_dict.loc[params_dict.C == 1, 'MAE_avg'].mean())\n",
    "    # all_c3_maes.append(params_dict.loc[params_dict.C == 3, 'MAE_avg'].mean())\n",
    "\n",
    "    # index_str = results_dir.split('_')[0]\n",
    "    # if results_dir.split('_')[1] == 'exp':\n",
    "    #     index_str += ' exp '\n",
    "    # if 'noshock' not in results_dir:\n",
    "    #     index_str += ' shocked '\n",
    "    # index_str += ' ' + results_dir.split('params_set')[1].split('_')[1]\n",
    "\n",
    "    # fig = go.Figure()\n",
    "    # fig.add_trace(go.Scatter(y=params_dict.loc[params_dict.C == 1, 'MAE_avg'], name = 'col', text=params_dict.loc[params_dict.C == 1, 'text'],))\n",
    "    # fig.update_layout(title_text=f'C = 1 {index_str}')\n",
    "    # fig.show()\n",
    "\n",
    "    # # TODO similar analysis automatically for all the parameters, gather the stds avgs in a table & show\n",
    "\n",
    "    # c_variability = []\n",
    "    # c_range = []\n",
    "    # for q_kernel in np.unique(params_dict['q_kernel']):\n",
    "    #     for q_data in np.unique(params_dict['q_data']):\n",
    "    #         for epsilon in np.unique(params_dict['epsilon']):\n",
    "    #             c_variability.append(params_dict.loc[(params_dict['q_kernel'] == q_kernel) & (params_dict['q_data'] == q_data) & (params_dict['epsilon'] == epsilon), 'MAE_avg'].std())\n",
    "    #             c_range.append(max(params_dict.loc[(params_dict['q_kernel'] == q_kernel) & (params_dict['q_data'] == q_data) & (params_dict['epsilon'] == epsilon), 'MAE_avg']) - min(params_dict.loc[(params_dict['q_kernel'] == q_kernel) & (params_dict['q_data'] == q_data) & (params_dict['epsilon'] == epsilon), 'MAE_avg']))\n",
    "\n",
    "    # calculate_variability_and_range(params_dict, 'C')\n",
    "\n",
    "    # q_kernel_variability = []\n",
    "    # for C in np.unique(params_dict['C']):\n",
    "    #     for q_data in np.unique(params_dict['q_data']):\n",
    "    #         for epsilon in np.unique(params_dict['epsilon']):\n",
    "    #             q_kernel_variability.append(params_dict.loc[(params_dict['C'] == C) & (params_dict['q_data'] == q_data) & (params_dict['epsilon'] == epsilon), 'MAE_avg'].std())\n",
    "\n",
    "    # q_data_variability = []\n",
    "    # for q_kernel in np.unique(params_dict['q_kernel']):\n",
    "    #     for C in np.unique(params_dict['C']):\n",
    "    #         for epsilon in np.unique(params_dict['epsilon']):\n",
    "    #             q_data_variability.append(params_dict.loc[(params_dict['C'] == C) & (params_dict['q_kernel'] == q_kernel) & (params_dict['epsilon'] == epsilon), 'MAE_avg'].std())\n",
    "\n",
    "total_result = pd.concat(all_dfs)\n",
    "\n",
    "svr_cols = [\"SVRq_kernel\", \"SVRq_data\", \"SVRepsilon\", \"SVRC\"]\n",
    "csvr_cols = [\"cSVRq_kernel_naive\", \"cSVRq_data_naive\"]\n",
    "ccsvr_cols = [\"ccSVRq_kernel_div\", \"ccSVRq_data_div\", \"ccSVRdiv_impact\"]\n",
    "\n",
    "for measure in [\"std\", \"range\", \"median optimal\"]:\n",
    "    measure_df = (\n",
    "        total_result.loc[total_result.Measure == measure].copy().round(4).reset_index()\n",
    "    )\n",
    "    if measure in [\"std\", \"range\"]:\n",
    "        for row_idx, row in enumerate(measure_df.iterrows()):\n",
    "            min_arg_mae = row[1][svr_cols].to_numpy().argmax()\n",
    "            measure_df.at[row_idx, svr_cols[min_arg_mae]] = (\n",
    "                f\"{measure_df.at[row_idx, svr_cols[min_arg_mae]]}*\"\n",
    "            )\n",
    "\n",
    "            min_arg_insample_mae = row[1][csvr_cols].to_numpy().argmax()\n",
    "            measure_df.at[row_idx, csvr_cols[min_arg_insample_mae]] = (\n",
    "                f\"{measure_df.at[row_idx, csvr_cols[min_arg_insample_mae]]}*\"\n",
    "            )\n",
    "\n",
    "            max_align = row[1][ccsvr_cols].to_numpy().argmax()\n",
    "            measure_df.at[row_idx, ccsvr_cols[max_align]] = (\n",
    "                f\"{measure_df.at[row_idx, ccsvr_cols[max_align]]}*\"\n",
    "            )\n",
    "    measure_df.index = index\n",
    "    measure_df.to_csv(f\"ANALYSIS_TABLES/MC_study_CV_results_{measure}.csv\")"
   ]
  },
  {
   "cell_type": "code",
   "execution_count": 35,
   "metadata": {},
   "outputs": [
    {
     "data": {
      "text/plain": [
       "'ARX exp  0'"
      ]
     },
     "execution_count": 35,
     "metadata": {},
     "output_type": "execute_result"
    }
   ],
   "source": [
    "row[0]"
   ]
  },
  {
   "cell_type": "code",
   "execution_count": 75,
   "metadata": {},
   "outputs": [
    {
     "data": {
      "application/vnd.plotly.v1+json": {
       "config": {
        "plotlyServerURL": "https://plot.ly"
       },
       "data": [
        {
         "name": "C=0.1",
         "type": "scatter",
         "y": [
          0.4132065478783778,
          0.5242858890998761,
          0.3652362922726821,
          0.4390478625791141,
          0.34264502670008096,
          0.27316251775390127,
          0.4153061534359,
          0.44517864481537595,
          0.36594834010041755,
          0.40767381540608166,
          0.3439258567623796,
          0.28116855521898365,
          0.7059916219787133,
          0.6348639562501595,
          0.617632772352162,
          0.4941694464964483,
          0.5627634374004741,
          0.35724278184852865,
          0.6952687003370273,
          0.6614840028798292,
          0.6156115945150868,
          0.5425714080274092,
          0.5408953297945756,
          0.396873987683155,
          0.5732344890890013,
          0.5488193988903607,
          0.5551538123888051,
          0.5163871496556883,
          0.5732357935528002,
          0.5076181258170213,
          0.4871569700170048,
          0.5179812209370883,
          0.5029697984869659,
          0.5231905725999599,
          0.5575227619304312,
          0.5025930560386552,
          0.8170240383917522,
          0.7936422123334376,
          0.7704993073477714,
          0.7311108709261763,
          0.6530457483066315,
          0.5513914402917073,
          0.7827975984442247,
          0.769371348622937,
          0.7618466927742872,
          0.733702622705368,
          0.6877965782287833,
          0.5671123066928646
         ]
        },
        {
         "name": "C=1",
         "type": "scatter",
         "y": [
          0.41731117512813287,
          0.5317705886033809,
          0.3621616061662433,
          0.4436257218593888,
          0.3015298470546718,
          0.2635389153737273,
          0.4202967099419156,
          0.4563168307374127,
          0.37546547672186903,
          0.4133956134035112,
          0.31119408317782926,
          0.2694365060963433,
          0.630515120451719,
          0.6216972020302861,
          0.4923672677355461,
          0.4626893334001588,
          0.32536195535444595,
          0.23695731404254597,
          0.634863544322337,
          0.6503614836283292,
          0.5242418714834972,
          0.5139844473398345,
          0.3452809850256964,
          0.26965505198113626,
          0.6004617000825361,
          0.5740993575452892,
          0.5847002792370365,
          0.5420079654195681,
          0.5489015797127033,
          0.5456300820995702,
          0.5106243853995706,
          0.5381921792330455,
          0.5219165694502758,
          0.5455260296911858,
          0.5456280268822375,
          0.5556489096166132,
          0.8393510342335445,
          0.8166351094159787,
          0.7690967153107835,
          0.7388963808427111,
          0.5345149670163131,
          0.5081010962907909,
          0.8076027825282377,
          0.7925339283331068,
          0.7642151131741504,
          0.7501577051344395,
          0.5831483992248666,
          0.5504425293050622
         ]
        },
        {
         "name": "C=3",
         "type": "scatter",
         "y": [
          0.4373126310104878,
          0.5533950015656225,
          0.38386226781354427,
          0.4697893793064779,
          0.3122177004908174,
          0.2727244529429414,
          0.43793407290597774,
          0.4772560133665597,
          0.39656115135084247,
          0.43616948530116495,
          0.3234993181383766,
          0.2795366110567488,
          0.6293999111307539,
          0.6400923132974439,
          0.48425300072469496,
          0.4727659376779504,
          0.2999142501584896,
          0.22769719248698203,
          0.6416712814238207,
          0.670248748215936,
          0.5264588043649301,
          0.5266472540786243,
          0.33014306084559975,
          0.2602478383309879,
          0.6327448239330025,
          0.5999474918891625,
          0.6257531609164851,
          0.5798403598600539,
          0.5930104634010107,
          0.6139180075084567,
          0.5381833765764713,
          0.559969112858585,
          0.5512100451770069,
          0.5716761014669576,
          0.5817242967268612,
          0.6139193077678068,
          0.8659547816414559,
          0.8421301551691629,
          0.7972777701568226,
          0.7650693076117148,
          0.5450923130043849,
          0.5294783445228262,
          0.8337776636160056,
          0.81589852909338,
          0.791366280829222,
          0.7775955189923711,
          0.5966013786250048,
          0.5695301665969797
         ]
        }
       ],
       "layout": {
        "template": {
         "data": {
          "bar": [
           {
            "error_x": {
             "color": "#2a3f5f"
            },
            "error_y": {
             "color": "#2a3f5f"
            },
            "marker": {
             "line": {
              "color": "#E5ECF6",
              "width": 0.5
             },
             "pattern": {
              "fillmode": "overlay",
              "size": 10,
              "solidity": 0.2
             }
            },
            "type": "bar"
           }
          ],
          "barpolar": [
           {
            "marker": {
             "line": {
              "color": "#E5ECF6",
              "width": 0.5
             },
             "pattern": {
              "fillmode": "overlay",
              "size": 10,
              "solidity": 0.2
             }
            },
            "type": "barpolar"
           }
          ],
          "carpet": [
           {
            "aaxis": {
             "endlinecolor": "#2a3f5f",
             "gridcolor": "white",
             "linecolor": "white",
             "minorgridcolor": "white",
             "startlinecolor": "#2a3f5f"
            },
            "baxis": {
             "endlinecolor": "#2a3f5f",
             "gridcolor": "white",
             "linecolor": "white",
             "minorgridcolor": "white",
             "startlinecolor": "#2a3f5f"
            },
            "type": "carpet"
           }
          ],
          "choropleth": [
           {
            "colorbar": {
             "outlinewidth": 0,
             "ticks": ""
            },
            "type": "choropleth"
           }
          ],
          "contour": [
           {
            "colorbar": {
             "outlinewidth": 0,
             "ticks": ""
            },
            "colorscale": [
             [
              0,
              "#0d0887"
             ],
             [
              0.1111111111111111,
              "#46039f"
             ],
             [
              0.2222222222222222,
              "#7201a8"
             ],
             [
              0.3333333333333333,
              "#9c179e"
             ],
             [
              0.4444444444444444,
              "#bd3786"
             ],
             [
              0.5555555555555556,
              "#d8576b"
             ],
             [
              0.6666666666666666,
              "#ed7953"
             ],
             [
              0.7777777777777778,
              "#fb9f3a"
             ],
             [
              0.8888888888888888,
              "#fdca26"
             ],
             [
              1,
              "#f0f921"
             ]
            ],
            "type": "contour"
           }
          ],
          "contourcarpet": [
           {
            "colorbar": {
             "outlinewidth": 0,
             "ticks": ""
            },
            "type": "contourcarpet"
           }
          ],
          "heatmap": [
           {
            "colorbar": {
             "outlinewidth": 0,
             "ticks": ""
            },
            "colorscale": [
             [
              0,
              "#0d0887"
             ],
             [
              0.1111111111111111,
              "#46039f"
             ],
             [
              0.2222222222222222,
              "#7201a8"
             ],
             [
              0.3333333333333333,
              "#9c179e"
             ],
             [
              0.4444444444444444,
              "#bd3786"
             ],
             [
              0.5555555555555556,
              "#d8576b"
             ],
             [
              0.6666666666666666,
              "#ed7953"
             ],
             [
              0.7777777777777778,
              "#fb9f3a"
             ],
             [
              0.8888888888888888,
              "#fdca26"
             ],
             [
              1,
              "#f0f921"
             ]
            ],
            "type": "heatmap"
           }
          ],
          "heatmapgl": [
           {
            "colorbar": {
             "outlinewidth": 0,
             "ticks": ""
            },
            "colorscale": [
             [
              0,
              "#0d0887"
             ],
             [
              0.1111111111111111,
              "#46039f"
             ],
             [
              0.2222222222222222,
              "#7201a8"
             ],
             [
              0.3333333333333333,
              "#9c179e"
             ],
             [
              0.4444444444444444,
              "#bd3786"
             ],
             [
              0.5555555555555556,
              "#d8576b"
             ],
             [
              0.6666666666666666,
              "#ed7953"
             ],
             [
              0.7777777777777778,
              "#fb9f3a"
             ],
             [
              0.8888888888888888,
              "#fdca26"
             ],
             [
              1,
              "#f0f921"
             ]
            ],
            "type": "heatmapgl"
           }
          ],
          "histogram": [
           {
            "marker": {
             "pattern": {
              "fillmode": "overlay",
              "size": 10,
              "solidity": 0.2
             }
            },
            "type": "histogram"
           }
          ],
          "histogram2d": [
           {
            "colorbar": {
             "outlinewidth": 0,
             "ticks": ""
            },
            "colorscale": [
             [
              0,
              "#0d0887"
             ],
             [
              0.1111111111111111,
              "#46039f"
             ],
             [
              0.2222222222222222,
              "#7201a8"
             ],
             [
              0.3333333333333333,
              "#9c179e"
             ],
             [
              0.4444444444444444,
              "#bd3786"
             ],
             [
              0.5555555555555556,
              "#d8576b"
             ],
             [
              0.6666666666666666,
              "#ed7953"
             ],
             [
              0.7777777777777778,
              "#fb9f3a"
             ],
             [
              0.8888888888888888,
              "#fdca26"
             ],
             [
              1,
              "#f0f921"
             ]
            ],
            "type": "histogram2d"
           }
          ],
          "histogram2dcontour": [
           {
            "colorbar": {
             "outlinewidth": 0,
             "ticks": ""
            },
            "colorscale": [
             [
              0,
              "#0d0887"
             ],
             [
              0.1111111111111111,
              "#46039f"
             ],
             [
              0.2222222222222222,
              "#7201a8"
             ],
             [
              0.3333333333333333,
              "#9c179e"
             ],
             [
              0.4444444444444444,
              "#bd3786"
             ],
             [
              0.5555555555555556,
              "#d8576b"
             ],
             [
              0.6666666666666666,
              "#ed7953"
             ],
             [
              0.7777777777777778,
              "#fb9f3a"
             ],
             [
              0.8888888888888888,
              "#fdca26"
             ],
             [
              1,
              "#f0f921"
             ]
            ],
            "type": "histogram2dcontour"
           }
          ],
          "mesh3d": [
           {
            "colorbar": {
             "outlinewidth": 0,
             "ticks": ""
            },
            "type": "mesh3d"
           }
          ],
          "parcoords": [
           {
            "line": {
             "colorbar": {
              "outlinewidth": 0,
              "ticks": ""
             }
            },
            "type": "parcoords"
           }
          ],
          "pie": [
           {
            "automargin": true,
            "type": "pie"
           }
          ],
          "scatter": [
           {
            "fillpattern": {
             "fillmode": "overlay",
             "size": 10,
             "solidity": 0.2
            },
            "type": "scatter"
           }
          ],
          "scatter3d": [
           {
            "line": {
             "colorbar": {
              "outlinewidth": 0,
              "ticks": ""
             }
            },
            "marker": {
             "colorbar": {
              "outlinewidth": 0,
              "ticks": ""
             }
            },
            "type": "scatter3d"
           }
          ],
          "scattercarpet": [
           {
            "marker": {
             "colorbar": {
              "outlinewidth": 0,
              "ticks": ""
             }
            },
            "type": "scattercarpet"
           }
          ],
          "scattergeo": [
           {
            "marker": {
             "colorbar": {
              "outlinewidth": 0,
              "ticks": ""
             }
            },
            "type": "scattergeo"
           }
          ],
          "scattergl": [
           {
            "marker": {
             "colorbar": {
              "outlinewidth": 0,
              "ticks": ""
             }
            },
            "type": "scattergl"
           }
          ],
          "scattermapbox": [
           {
            "marker": {
             "colorbar": {
              "outlinewidth": 0,
              "ticks": ""
             }
            },
            "type": "scattermapbox"
           }
          ],
          "scatterpolar": [
           {
            "marker": {
             "colorbar": {
              "outlinewidth": 0,
              "ticks": ""
             }
            },
            "type": "scatterpolar"
           }
          ],
          "scatterpolargl": [
           {
            "marker": {
             "colorbar": {
              "outlinewidth": 0,
              "ticks": ""
             }
            },
            "type": "scatterpolargl"
           }
          ],
          "scatterternary": [
           {
            "marker": {
             "colorbar": {
              "outlinewidth": 0,
              "ticks": ""
             }
            },
            "type": "scatterternary"
           }
          ],
          "surface": [
           {
            "colorbar": {
             "outlinewidth": 0,
             "ticks": ""
            },
            "colorscale": [
             [
              0,
              "#0d0887"
             ],
             [
              0.1111111111111111,
              "#46039f"
             ],
             [
              0.2222222222222222,
              "#7201a8"
             ],
             [
              0.3333333333333333,
              "#9c179e"
             ],
             [
              0.4444444444444444,
              "#bd3786"
             ],
             [
              0.5555555555555556,
              "#d8576b"
             ],
             [
              0.6666666666666666,
              "#ed7953"
             ],
             [
              0.7777777777777778,
              "#fb9f3a"
             ],
             [
              0.8888888888888888,
              "#fdca26"
             ],
             [
              1,
              "#f0f921"
             ]
            ],
            "type": "surface"
           }
          ],
          "table": [
           {
            "cells": {
             "fill": {
              "color": "#EBF0F8"
             },
             "line": {
              "color": "white"
             }
            },
            "header": {
             "fill": {
              "color": "#C8D4E3"
             },
             "line": {
              "color": "white"
             }
            },
            "type": "table"
           }
          ]
         },
         "layout": {
          "annotationdefaults": {
           "arrowcolor": "#2a3f5f",
           "arrowhead": 0,
           "arrowwidth": 1
          },
          "autotypenumbers": "strict",
          "coloraxis": {
           "colorbar": {
            "outlinewidth": 0,
            "ticks": ""
           }
          },
          "colorscale": {
           "diverging": [
            [
             0,
             "#8e0152"
            ],
            [
             0.1,
             "#c51b7d"
            ],
            [
             0.2,
             "#de77ae"
            ],
            [
             0.3,
             "#f1b6da"
            ],
            [
             0.4,
             "#fde0ef"
            ],
            [
             0.5,
             "#f7f7f7"
            ],
            [
             0.6,
             "#e6f5d0"
            ],
            [
             0.7,
             "#b8e186"
            ],
            [
             0.8,
             "#7fbc41"
            ],
            [
             0.9,
             "#4d9221"
            ],
            [
             1,
             "#276419"
            ]
           ],
           "sequential": [
            [
             0,
             "#0d0887"
            ],
            [
             0.1111111111111111,
             "#46039f"
            ],
            [
             0.2222222222222222,
             "#7201a8"
            ],
            [
             0.3333333333333333,
             "#9c179e"
            ],
            [
             0.4444444444444444,
             "#bd3786"
            ],
            [
             0.5555555555555556,
             "#d8576b"
            ],
            [
             0.6666666666666666,
             "#ed7953"
            ],
            [
             0.7777777777777778,
             "#fb9f3a"
            ],
            [
             0.8888888888888888,
             "#fdca26"
            ],
            [
             1,
             "#f0f921"
            ]
           ],
           "sequentialminus": [
            [
             0,
             "#0d0887"
            ],
            [
             0.1111111111111111,
             "#46039f"
            ],
            [
             0.2222222222222222,
             "#7201a8"
            ],
            [
             0.3333333333333333,
             "#9c179e"
            ],
            [
             0.4444444444444444,
             "#bd3786"
            ],
            [
             0.5555555555555556,
             "#d8576b"
            ],
            [
             0.6666666666666666,
             "#ed7953"
            ],
            [
             0.7777777777777778,
             "#fb9f3a"
            ],
            [
             0.8888888888888888,
             "#fdca26"
            ],
            [
             1,
             "#f0f921"
            ]
           ]
          },
          "colorway": [
           "#636efa",
           "#EF553B",
           "#00cc96",
           "#ab63fa",
           "#FFA15A",
           "#19d3f3",
           "#FF6692",
           "#B6E880",
           "#FF97FF",
           "#FECB52"
          ],
          "font": {
           "color": "#2a3f5f"
          },
          "geo": {
           "bgcolor": "white",
           "lakecolor": "white",
           "landcolor": "#E5ECF6",
           "showlakes": true,
           "showland": true,
           "subunitcolor": "white"
          },
          "hoverlabel": {
           "align": "left"
          },
          "hovermode": "closest",
          "mapbox": {
           "style": "light"
          },
          "paper_bgcolor": "white",
          "plot_bgcolor": "#E5ECF6",
          "polar": {
           "angularaxis": {
            "gridcolor": "white",
            "linecolor": "white",
            "ticks": ""
           },
           "bgcolor": "#E5ECF6",
           "radialaxis": {
            "gridcolor": "white",
            "linecolor": "white",
            "ticks": ""
           }
          },
          "scene": {
           "xaxis": {
            "backgroundcolor": "#E5ECF6",
            "gridcolor": "white",
            "gridwidth": 2,
            "linecolor": "white",
            "showbackground": true,
            "ticks": "",
            "zerolinecolor": "white"
           },
           "yaxis": {
            "backgroundcolor": "#E5ECF6",
            "gridcolor": "white",
            "gridwidth": 2,
            "linecolor": "white",
            "showbackground": true,
            "ticks": "",
            "zerolinecolor": "white"
           },
           "zaxis": {
            "backgroundcolor": "#E5ECF6",
            "gridcolor": "white",
            "gridwidth": 2,
            "linecolor": "white",
            "showbackground": true,
            "ticks": "",
            "zerolinecolor": "white"
           }
          },
          "shapedefaults": {
           "line": {
            "color": "#2a3f5f"
           }
          },
          "ternary": {
           "aaxis": {
            "gridcolor": "white",
            "linecolor": "white",
            "ticks": ""
           },
           "baxis": {
            "gridcolor": "white",
            "linecolor": "white",
            "ticks": ""
           },
           "bgcolor": "#E5ECF6",
           "caxis": {
            "gridcolor": "white",
            "linecolor": "white",
            "ticks": ""
           }
          },
          "title": {
           "x": 0.05
          },
          "xaxis": {
           "automargin": true,
           "gridcolor": "white",
           "linecolor": "white",
           "ticks": "",
           "title": {
            "standoff": 15
           },
           "zerolinecolor": "white",
           "zerolinewidth": 2
          },
          "yaxis": {
           "automargin": true,
           "gridcolor": "white",
           "linecolor": "white",
           "ticks": "",
           "title": {
            "standoff": 15
           },
           "zerolinecolor": "white",
           "zerolinewidth": 2
          }
         }
        }
       }
      }
     },
     "metadata": {},
     "output_type": "display_data"
    }
   ],
   "source": [
    "fig = go.Figure()\n",
    "fig.add_trace(go.Scatter(y=all_c01_maes, name=\"C=0.1\"))\n",
    "fig.add_trace(go.Scatter(y=all_c1_maes, name=\"C=1\"))\n",
    "fig.add_trace(go.Scatter(y=all_c3_maes, name=\"C=3\"))\n",
    "fig.show()"
   ]
  },
  {
   "cell_type": "markdown",
   "metadata": {},
   "source": [
    "# Features sensitivity"
   ]
  },
  {
   "cell_type": "code",
   "execution_count": 2,
   "metadata": {},
   "outputs": [
    {
     "name": "stdout",
     "output_type": "stream",
     "text": [
      "[0, 0, 0]_0.1_101_features_sensitivity_analysis\n",
      "2024-12-28_14-23-15_results.pickle\n",
      "Correlation_sf:  100.23755322777666\n",
      "Alignment sf: 91.99335148092497\n",
      "[0, 0, 0]_0.9_101_features_sensitivity_analysis\n",
      "2024-12-28_18-25-58_results.pickle\n",
      "Correlation_sf:  95.98859354726838\n",
      "Alignment sf: 92.60024162981391\n",
      "[0.1, 0.1, 0.1]_0.1_101_features_sensitivity_analysis\n",
      "2025-01-01_07-15-49_results.pickle\n",
      "Correlation_sf:  102.85273769483697\n",
      "Alignment sf: 93.29212555598262\n",
      "[0.1, 0.1, 0.1]_0.9_101_features_sensitivity_analysis\n",
      "2024-12-28_10-18-35_results.pickle\n",
      "Correlation_sf:  92.35683530484486\n",
      "Alignment sf: 96.39576075796698\n",
      "[0.9, 0.1, 0.1]_0.1_101_features_sensitivity_analysis\n",
      "2024-12-28_22-35-29_results.pickle\n",
      "Correlation_sf:  102.71647193211962\n",
      "Alignment sf: 93.1325291360233\n",
      "[0.9, 0.9, 0.9]_0.1_101_features_sensitivity_analysis\n",
      "2024-12-29_12-57-04_results.pickle\n",
      "Correlation_sf:  98.32296075575945\n",
      "Alignment sf: 95.73493692403736\n",
      "[0.9, 0.9, 0.9]_0.9_101_features_sensitivity_analysis\n",
      "2024-12-30_01-29-30_results.pickle\n",
      "Correlation_sf:  98.01505436295574\n",
      "Alignment sf: 97.7514869023638\n"
     ]
    },
    {
     "data": {
      "application/vnd.plotly.v1+json": {
       "config": {
        "plotlyServerURL": "https://plot.ly"
       },
       "data": [
        {
         "line": {
          "color": "blue",
          "dash": "dashdot"
         },
         "marker": {
          "size": 6,
          "symbol": "square"
         },
         "mode": "lines+markers",
         "name": "Non-avg MAE ([0, 0, 0]_0.1_101_features_sensitivity_analysis)",
         "type": "scatter",
         "x": [
          "0",
          "1",
          "2",
          "12",
          "02",
          "01",
          "012"
         ],
         "y": [
          0.56597280840893,
          0.5584506822542249,
          0.5361422338131738,
          0.5737913631926609,
          0.5838352908015343,
          0.6048926666428723,
          0.6183982994142634
         ]
        },
        {
         "line": {
          "color": "blue",
          "dash": "dash"
         },
         "marker": {
          "size": 6,
          "symbol": "circle"
         },
         "mode": "lines+markers",
         "name": "Avg MAE ([0, 0, 0]_0.1_101_features_sensitivity_analysis)",
         "type": "scatter",
         "x": [
          "0",
          "1",
          "2",
          "12",
          "02",
          "01",
          "012"
         ],
         "y": [
          0.5668507244387687,
          0.5605944354808498,
          0.5381243872478623,
          0.5763432580751021,
          0.586004944544382,
          0.6059244991021157,
          0.6125230639583715
         ]
        },
        {
         "line": {
          "color": "red",
          "dash": "dashdot"
         },
         "marker": {
          "size": 6,
          "symbol": "square"
         },
         "mode": "lines+markers",
         "name": "Non-avg MAE ([0, 0, 0]_0.9_101_features_sensitivity_analysis)",
         "type": "scatter",
         "x": [
          "0",
          "1",
          "2",
          "12",
          "02",
          "01",
          "012"
         ],
         "y": [
          0.522666935923717,
          0.5365274506441838,
          0.5471520260685186,
          0.5165400769786511,
          0.4994077301017292,
          0.4705310746539911,
          0.4316858272096779
         ]
        },
        {
         "line": {
          "color": "red",
          "dash": "dash"
         },
         "marker": {
          "size": 6,
          "symbol": "circle"
         },
         "mode": "lines+markers",
         "name": "Avg MAE ([0, 0, 0]_0.9_101_features_sensitivity_analysis)",
         "type": "scatter",
         "x": [
          "0",
          "1",
          "2",
          "12",
          "02",
          "01",
          "012"
         ],
         "y": [
          0.5220493087551459,
          0.5358010277005847,
          0.5449933417482729,
          0.511576405529905,
          0.494357538512562,
          0.4649149486559241,
          0.405415375806797
         ]
        },
        {
         "line": {
          "color": "green",
          "dash": "dashdot"
         },
         "marker": {
          "size": 6,
          "symbol": "square"
         },
         "mode": "lines+markers",
         "name": "Non-avg MAE ([0.1, 0.1, 0.1]_0.1_101_features_sensitivity_analysis)",
         "type": "scatter",
         "x": [
          "0",
          "1",
          "2",
          "12",
          "02",
          "01",
          "012"
         ],
         "y": [
          0.4898594786826861,
          0.4726923372894178,
          0.4681755001928075,
          0.4977461713803295,
          0.5154318214220538,
          0.5186231765323662,
          0.5404895890862297
         ]
        },
        {
         "line": {
          "color": "green",
          "dash": "dash"
         },
         "marker": {
          "size": 6,
          "symbol": "circle"
         },
         "mode": "lines+markers",
         "name": "Avg MAE ([0.1, 0.1, 0.1]_0.1_101_features_sensitivity_analysis)",
         "type": "scatter",
         "x": [
          "0",
          "1",
          "2",
          "12",
          "02",
          "01",
          "012"
         ],
         "y": [
          0.4900814399709028,
          0.4731641477697155,
          0.4701172467559208,
          0.5003809275741002,
          0.5182739066031178,
          0.5151386108717636,
          0.5256007387981583
         ]
        },
        {
         "line": {
          "color": "orange",
          "dash": "dashdot"
         },
         "marker": {
          "size": 6,
          "symbol": "square"
         },
         "mode": "lines+markers",
         "name": "Non-avg MAE ([0.1, 0.1, 0.1]_0.9_101_features_sensitivity_analysis)",
         "type": "scatter",
         "x": [
          "0",
          "1",
          "2",
          "12",
          "02",
          "01",
          "012"
         ],
         "y": [
          0.5238149972095338,
          0.5329416746419009,
          0.5329020533964651,
          0.4901244575110514,
          0.4678631629332191,
          0.4685923788317054,
          0.39339814237647985
         ]
        },
        {
         "line": {
          "color": "orange",
          "dash": "dash"
         },
         "marker": {
          "size": 6,
          "symbol": "circle"
         },
         "mode": "lines+markers",
         "name": "Avg MAE ([0.1, 0.1, 0.1]_0.9_101_features_sensitivity_analysis)",
         "type": "scatter",
         "x": [
          "0",
          "1",
          "2",
          "12",
          "02",
          "01",
          "012"
         ],
         "y": [
          0.521857478735551,
          0.5313862605585838,
          0.5308217244136598,
          0.4812490267372947,
          0.4590215093661741,
          0.4576641290680168,
          0.3523555085220889
         ]
        },
        {
         "line": {
          "color": "purple",
          "dash": "dashdot"
         },
         "marker": {
          "size": 6,
          "symbol": "square"
         },
         "mode": "lines+markers",
         "name": "Non-avg MAE ([0.9, 0.1, 0.1]_0.1_101_features_sensitivity_analysis)",
         "type": "scatter",
         "x": [
          "0",
          "1",
          "2",
          "12",
          "02",
          "01",
          "012"
         ],
         "y": [
          0.4505497272152423,
          0.411509387967545,
          0.46151805853660743,
          0.46155992764508386,
          0.4950963486773398,
          0.4511345541632388,
          0.4990502683004945
         ]
        },
        {
         "line": {
          "color": "purple",
          "dash": "dash"
         },
         "marker": {
          "size": 6,
          "symbol": "circle"
         },
         "mode": "lines+markers",
         "name": "Avg MAE ([0.9, 0.1, 0.1]_0.1_101_features_sensitivity_analysis)",
         "type": "scatter",
         "x": [
          "0",
          "1",
          "2",
          "12",
          "02",
          "01",
          "012"
         ],
         "y": [
          0.4544377665660614,
          0.4112744508267861,
          0.4633493366659372,
          0.462313527277703,
          0.492609378533951,
          0.45332151304003926,
          0.4889410059112515
         ]
        },
        {
         "line": {
          "color": "cyan",
          "dash": "dashdot"
         },
         "marker": {
          "size": 6,
          "symbol": "square"
         },
         "mode": "lines+markers",
         "name": "Non-avg MAE ([0.9, 0.9, 0.9]_0.1_101_features_sensitivity_analysis)",
         "type": "scatter",
         "x": [
          "0",
          "1",
          "2",
          "12",
          "02",
          "01",
          "012"
         ],
         "y": [
          0.324446042541837,
          0.3297146922145222,
          0.33599536969376403,
          0.350993216894378,
          0.34490083141848876,
          0.3396658551242367,
          0.34068553349221686
         ]
        },
        {
         "line": {
          "color": "cyan",
          "dash": "dash"
         },
         "marker": {
          "size": 6,
          "symbol": "circle"
         },
         "mode": "lines+markers",
         "name": "Avg MAE ([0.9, 0.9, 0.9]_0.1_101_features_sensitivity_analysis)",
         "type": "scatter",
         "x": [
          "0",
          "1",
          "2",
          "12",
          "02",
          "01",
          "012"
         ],
         "y": [
          0.3181626766243039,
          0.32479930775891225,
          0.3328964996161383,
          0.3394689434281638,
          0.33217739837646654,
          0.32376443702688246,
          0.3111047870482075
         ]
        },
        {
         "line": {
          "color": "magenta",
          "dash": "dashdot"
         },
         "marker": {
          "size": 6,
          "symbol": "square"
         },
         "mode": "lines+markers",
         "name": "Non-avg MAE ([0.9, 0.9, 0.9]_0.9_101_features_sensitivity_analysis)",
         "type": "scatter",
         "x": [
          "0",
          "1",
          "2",
          "12",
          "02",
          "01",
          "012"
         ],
         "y": [
          0.4022877918266149,
          0.4021556662658023,
          0.4033892774505046,
          0.3543272195461858,
          0.3534098257505605,
          0.35298834587984035,
          0.2947855946676359
         ]
        },
        {
         "line": {
          "color": "magenta",
          "dash": "dash"
         },
         "marker": {
          "size": 6,
          "symbol": "circle"
         },
         "mode": "lines+markers",
         "name": "Avg MAE ([0.9, 0.9, 0.9]_0.9_101_features_sensitivity_analysis)",
         "type": "scatter",
         "x": [
          "0",
          "1",
          "2",
          "12",
          "02",
          "01",
          "012"
         ],
         "y": [
          0.39855488525258714,
          0.4001506533189686,
          0.40090487656354257,
          0.34713628747761177,
          0.3438839954133475,
          0.3444083757598071,
          0.27637096575467024
         ]
        }
       ],
       "layout": {
        "legend": {
         "title": {
          "text": "Legend"
         }
        },
        "shapes": [
         {
          "line": {
           "color": "blue",
           "dash": "dash",
           "width": 2
          },
          "name": "MAE of _",
          "type": "line",
          "x0": 0,
          "x1": 1,
          "xref": "paper",
          "y0": 0.5219756504917563,
          "y1": 0.5219756504917563,
          "yref": "y"
         },
         {
          "line": {
           "color": "red",
           "dash": "dash",
           "width": 2
          },
          "name": "MAE of _",
          "type": "line",
          "x0": 0,
          "x1": 1,
          "xref": "paper",
          "y0": 0.5600116646661988,
          "y1": 0.5600116646661988,
          "yref": "y"
         },
         {
          "line": {
           "color": "green",
           "dash": "dash",
           "width": 2
          },
          "name": "MAE of _",
          "type": "line",
          "x0": 0,
          "x1": 1,
          "xref": "paper",
          "y0": 0.4455445430185266,
          "y1": 0.4455445430185266,
          "yref": "y"
         },
         {
          "line": {
           "color": "orange",
           "dash": "dash",
           "width": 2
          },
          "name": "MAE of _",
          "type": "line",
          "x0": 0,
          "x1": 1,
          "xref": "paper",
          "y0": 0.5588886797512364,
          "y1": 0.5588886797512364,
          "yref": "y"
         },
         {
          "line": {
           "color": "purple",
           "dash": "dash",
           "width": 2
          },
          "name": "MAE of _",
          "type": "line",
          "x0": 0,
          "x1": 1,
          "xref": "paper",
          "y0": 0.41740343568666216,
          "y1": 0.41740343568666216,
          "yref": "y"
         },
         {
          "line": {
           "color": "cyan",
           "dash": "dash",
           "width": 2
          },
          "name": "MAE of _",
          "type": "line",
          "x0": 0,
          "x1": 1,
          "xref": "paper",
          "y0": 0.2989824948626935,
          "y1": 0.2989824948626935,
          "yref": "y"
         },
         {
          "line": {
           "color": "magenta",
           "dash": "dash",
           "width": 2
          },
          "name": "MAE of _",
          "type": "line",
          "x0": 0,
          "x1": 1,
          "xref": "paper",
          "y0": 0.44125183313711297,
          "y1": 0.44125183313711297,
          "yref": "y"
         }
        ],
        "template": {
         "data": {
          "bar": [
           {
            "error_x": {
             "color": "#2a3f5f"
            },
            "error_y": {
             "color": "#2a3f5f"
            },
            "marker": {
             "line": {
              "color": "white",
              "width": 0.5
             },
             "pattern": {
              "fillmode": "overlay",
              "size": 10,
              "solidity": 0.2
             }
            },
            "type": "bar"
           }
          ],
          "barpolar": [
           {
            "marker": {
             "line": {
              "color": "white",
              "width": 0.5
             },
             "pattern": {
              "fillmode": "overlay",
              "size": 10,
              "solidity": 0.2
             }
            },
            "type": "barpolar"
           }
          ],
          "carpet": [
           {
            "aaxis": {
             "endlinecolor": "#2a3f5f",
             "gridcolor": "#C8D4E3",
             "linecolor": "#C8D4E3",
             "minorgridcolor": "#C8D4E3",
             "startlinecolor": "#2a3f5f"
            },
            "baxis": {
             "endlinecolor": "#2a3f5f",
             "gridcolor": "#C8D4E3",
             "linecolor": "#C8D4E3",
             "minorgridcolor": "#C8D4E3",
             "startlinecolor": "#2a3f5f"
            },
            "type": "carpet"
           }
          ],
          "choropleth": [
           {
            "colorbar": {
             "outlinewidth": 0,
             "ticks": ""
            },
            "type": "choropleth"
           }
          ],
          "contour": [
           {
            "colorbar": {
             "outlinewidth": 0,
             "ticks": ""
            },
            "colorscale": [
             [
              0,
              "#0d0887"
             ],
             [
              0.1111111111111111,
              "#46039f"
             ],
             [
              0.2222222222222222,
              "#7201a8"
             ],
             [
              0.3333333333333333,
              "#9c179e"
             ],
             [
              0.4444444444444444,
              "#bd3786"
             ],
             [
              0.5555555555555556,
              "#d8576b"
             ],
             [
              0.6666666666666666,
              "#ed7953"
             ],
             [
              0.7777777777777778,
              "#fb9f3a"
             ],
             [
              0.8888888888888888,
              "#fdca26"
             ],
             [
              1,
              "#f0f921"
             ]
            ],
            "type": "contour"
           }
          ],
          "contourcarpet": [
           {
            "colorbar": {
             "outlinewidth": 0,
             "ticks": ""
            },
            "type": "contourcarpet"
           }
          ],
          "heatmap": [
           {
            "colorbar": {
             "outlinewidth": 0,
             "ticks": ""
            },
            "colorscale": [
             [
              0,
              "#0d0887"
             ],
             [
              0.1111111111111111,
              "#46039f"
             ],
             [
              0.2222222222222222,
              "#7201a8"
             ],
             [
              0.3333333333333333,
              "#9c179e"
             ],
             [
              0.4444444444444444,
              "#bd3786"
             ],
             [
              0.5555555555555556,
              "#d8576b"
             ],
             [
              0.6666666666666666,
              "#ed7953"
             ],
             [
              0.7777777777777778,
              "#fb9f3a"
             ],
             [
              0.8888888888888888,
              "#fdca26"
             ],
             [
              1,
              "#f0f921"
             ]
            ],
            "type": "heatmap"
           }
          ],
          "heatmapgl": [
           {
            "colorbar": {
             "outlinewidth": 0,
             "ticks": ""
            },
            "colorscale": [
             [
              0,
              "#0d0887"
             ],
             [
              0.1111111111111111,
              "#46039f"
             ],
             [
              0.2222222222222222,
              "#7201a8"
             ],
             [
              0.3333333333333333,
              "#9c179e"
             ],
             [
              0.4444444444444444,
              "#bd3786"
             ],
             [
              0.5555555555555556,
              "#d8576b"
             ],
             [
              0.6666666666666666,
              "#ed7953"
             ],
             [
              0.7777777777777778,
              "#fb9f3a"
             ],
             [
              0.8888888888888888,
              "#fdca26"
             ],
             [
              1,
              "#f0f921"
             ]
            ],
            "type": "heatmapgl"
           }
          ],
          "histogram": [
           {
            "marker": {
             "pattern": {
              "fillmode": "overlay",
              "size": 10,
              "solidity": 0.2
             }
            },
            "type": "histogram"
           }
          ],
          "histogram2d": [
           {
            "colorbar": {
             "outlinewidth": 0,
             "ticks": ""
            },
            "colorscale": [
             [
              0,
              "#0d0887"
             ],
             [
              0.1111111111111111,
              "#46039f"
             ],
             [
              0.2222222222222222,
              "#7201a8"
             ],
             [
              0.3333333333333333,
              "#9c179e"
             ],
             [
              0.4444444444444444,
              "#bd3786"
             ],
             [
              0.5555555555555556,
              "#d8576b"
             ],
             [
              0.6666666666666666,
              "#ed7953"
             ],
             [
              0.7777777777777778,
              "#fb9f3a"
             ],
             [
              0.8888888888888888,
              "#fdca26"
             ],
             [
              1,
              "#f0f921"
             ]
            ],
            "type": "histogram2d"
           }
          ],
          "histogram2dcontour": [
           {
            "colorbar": {
             "outlinewidth": 0,
             "ticks": ""
            },
            "colorscale": [
             [
              0,
              "#0d0887"
             ],
             [
              0.1111111111111111,
              "#46039f"
             ],
             [
              0.2222222222222222,
              "#7201a8"
             ],
             [
              0.3333333333333333,
              "#9c179e"
             ],
             [
              0.4444444444444444,
              "#bd3786"
             ],
             [
              0.5555555555555556,
              "#d8576b"
             ],
             [
              0.6666666666666666,
              "#ed7953"
             ],
             [
              0.7777777777777778,
              "#fb9f3a"
             ],
             [
              0.8888888888888888,
              "#fdca26"
             ],
             [
              1,
              "#f0f921"
             ]
            ],
            "type": "histogram2dcontour"
           }
          ],
          "mesh3d": [
           {
            "colorbar": {
             "outlinewidth": 0,
             "ticks": ""
            },
            "type": "mesh3d"
           }
          ],
          "parcoords": [
           {
            "line": {
             "colorbar": {
              "outlinewidth": 0,
              "ticks": ""
             }
            },
            "type": "parcoords"
           }
          ],
          "pie": [
           {
            "automargin": true,
            "type": "pie"
           }
          ],
          "scatter": [
           {
            "fillpattern": {
             "fillmode": "overlay",
             "size": 10,
             "solidity": 0.2
            },
            "type": "scatter"
           }
          ],
          "scatter3d": [
           {
            "line": {
             "colorbar": {
              "outlinewidth": 0,
              "ticks": ""
             }
            },
            "marker": {
             "colorbar": {
              "outlinewidth": 0,
              "ticks": ""
             }
            },
            "type": "scatter3d"
           }
          ],
          "scattercarpet": [
           {
            "marker": {
             "colorbar": {
              "outlinewidth": 0,
              "ticks": ""
             }
            },
            "type": "scattercarpet"
           }
          ],
          "scattergeo": [
           {
            "marker": {
             "colorbar": {
              "outlinewidth": 0,
              "ticks": ""
             }
            },
            "type": "scattergeo"
           }
          ],
          "scattergl": [
           {
            "marker": {
             "colorbar": {
              "outlinewidth": 0,
              "ticks": ""
             }
            },
            "type": "scattergl"
           }
          ],
          "scattermapbox": [
           {
            "marker": {
             "colorbar": {
              "outlinewidth": 0,
              "ticks": ""
             }
            },
            "type": "scattermapbox"
           }
          ],
          "scatterpolar": [
           {
            "marker": {
             "colorbar": {
              "outlinewidth": 0,
              "ticks": ""
             }
            },
            "type": "scatterpolar"
           }
          ],
          "scatterpolargl": [
           {
            "marker": {
             "colorbar": {
              "outlinewidth": 0,
              "ticks": ""
             }
            },
            "type": "scatterpolargl"
           }
          ],
          "scatterternary": [
           {
            "marker": {
             "colorbar": {
              "outlinewidth": 0,
              "ticks": ""
             }
            },
            "type": "scatterternary"
           }
          ],
          "surface": [
           {
            "colorbar": {
             "outlinewidth": 0,
             "ticks": ""
            },
            "colorscale": [
             [
              0,
              "#0d0887"
             ],
             [
              0.1111111111111111,
              "#46039f"
             ],
             [
              0.2222222222222222,
              "#7201a8"
             ],
             [
              0.3333333333333333,
              "#9c179e"
             ],
             [
              0.4444444444444444,
              "#bd3786"
             ],
             [
              0.5555555555555556,
              "#d8576b"
             ],
             [
              0.6666666666666666,
              "#ed7953"
             ],
             [
              0.7777777777777778,
              "#fb9f3a"
             ],
             [
              0.8888888888888888,
              "#fdca26"
             ],
             [
              1,
              "#f0f921"
             ]
            ],
            "type": "surface"
           }
          ],
          "table": [
           {
            "cells": {
             "fill": {
              "color": "#EBF0F8"
             },
             "line": {
              "color": "white"
             }
            },
            "header": {
             "fill": {
              "color": "#C8D4E3"
             },
             "line": {
              "color": "white"
             }
            },
            "type": "table"
           }
          ]
         },
         "layout": {
          "annotationdefaults": {
           "arrowcolor": "#2a3f5f",
           "arrowhead": 0,
           "arrowwidth": 1
          },
          "autotypenumbers": "strict",
          "coloraxis": {
           "colorbar": {
            "outlinewidth": 0,
            "ticks": ""
           }
          },
          "colorscale": {
           "diverging": [
            [
             0,
             "#8e0152"
            ],
            [
             0.1,
             "#c51b7d"
            ],
            [
             0.2,
             "#de77ae"
            ],
            [
             0.3,
             "#f1b6da"
            ],
            [
             0.4,
             "#fde0ef"
            ],
            [
             0.5,
             "#f7f7f7"
            ],
            [
             0.6,
             "#e6f5d0"
            ],
            [
             0.7,
             "#b8e186"
            ],
            [
             0.8,
             "#7fbc41"
            ],
            [
             0.9,
             "#4d9221"
            ],
            [
             1,
             "#276419"
            ]
           ],
           "sequential": [
            [
             0,
             "#0d0887"
            ],
            [
             0.1111111111111111,
             "#46039f"
            ],
            [
             0.2222222222222222,
             "#7201a8"
            ],
            [
             0.3333333333333333,
             "#9c179e"
            ],
            [
             0.4444444444444444,
             "#bd3786"
            ],
            [
             0.5555555555555556,
             "#d8576b"
            ],
            [
             0.6666666666666666,
             "#ed7953"
            ],
            [
             0.7777777777777778,
             "#fb9f3a"
            ],
            [
             0.8888888888888888,
             "#fdca26"
            ],
            [
             1,
             "#f0f921"
            ]
           ],
           "sequentialminus": [
            [
             0,
             "#0d0887"
            ],
            [
             0.1111111111111111,
             "#46039f"
            ],
            [
             0.2222222222222222,
             "#7201a8"
            ],
            [
             0.3333333333333333,
             "#9c179e"
            ],
            [
             0.4444444444444444,
             "#bd3786"
            ],
            [
             0.5555555555555556,
             "#d8576b"
            ],
            [
             0.6666666666666666,
             "#ed7953"
            ],
            [
             0.7777777777777778,
             "#fb9f3a"
            ],
            [
             0.8888888888888888,
             "#fdca26"
            ],
            [
             1,
             "#f0f921"
            ]
           ]
          },
          "colorway": [
           "#636efa",
           "#EF553B",
           "#00cc96",
           "#ab63fa",
           "#FFA15A",
           "#19d3f3",
           "#FF6692",
           "#B6E880",
           "#FF97FF",
           "#FECB52"
          ],
          "font": {
           "color": "#2a3f5f"
          },
          "geo": {
           "bgcolor": "white",
           "lakecolor": "white",
           "landcolor": "white",
           "showlakes": true,
           "showland": true,
           "subunitcolor": "#C8D4E3"
          },
          "hoverlabel": {
           "align": "left"
          },
          "hovermode": "closest",
          "mapbox": {
           "style": "light"
          },
          "paper_bgcolor": "white",
          "plot_bgcolor": "white",
          "polar": {
           "angularaxis": {
            "gridcolor": "#EBF0F8",
            "linecolor": "#EBF0F8",
            "ticks": ""
           },
           "bgcolor": "white",
           "radialaxis": {
            "gridcolor": "#EBF0F8",
            "linecolor": "#EBF0F8",
            "ticks": ""
           }
          },
          "scene": {
           "xaxis": {
            "backgroundcolor": "white",
            "gridcolor": "#DFE8F3",
            "gridwidth": 2,
            "linecolor": "#EBF0F8",
            "showbackground": true,
            "ticks": "",
            "zerolinecolor": "#EBF0F8"
           },
           "yaxis": {
            "backgroundcolor": "white",
            "gridcolor": "#DFE8F3",
            "gridwidth": 2,
            "linecolor": "#EBF0F8",
            "showbackground": true,
            "ticks": "",
            "zerolinecolor": "#EBF0F8"
           },
           "zaxis": {
            "backgroundcolor": "white",
            "gridcolor": "#DFE8F3",
            "gridwidth": 2,
            "linecolor": "#EBF0F8",
            "showbackground": true,
            "ticks": "",
            "zerolinecolor": "#EBF0F8"
           }
          },
          "shapedefaults": {
           "line": {
            "color": "#2a3f5f"
           }
          },
          "ternary": {
           "aaxis": {
            "gridcolor": "#DFE8F3",
            "linecolor": "#A2B1C6",
            "ticks": ""
           },
           "baxis": {
            "gridcolor": "#DFE8F3",
            "linecolor": "#A2B1C6",
            "ticks": ""
           },
           "bgcolor": "white",
           "caxis": {
            "gridcolor": "#DFE8F3",
            "linecolor": "#A2B1C6",
            "ticks": ""
           }
          },
          "title": {
           "x": 0.05
          },
          "xaxis": {
           "automargin": true,
           "gridcolor": "#EBF0F8",
           "linecolor": "#EBF0F8",
           "ticks": "",
           "title": {
            "standoff": 15
           },
           "zerolinecolor": "#EBF0F8",
           "zerolinewidth": 2
          },
          "yaxis": {
           "automargin": true,
           "gridcolor": "#EBF0F8",
           "linecolor": "#EBF0F8",
           "ticks": "",
           "title": {
            "standoff": 15
           },
           "zerolinecolor": "#EBF0F8",
           "zerolinewidth": 2
          }
         }
        },
        "title": {
         "text": "Post_Drop_MAE Comparison"
        },
        "xaxis": {
         "title": {
          "text": "Meata"
         },
         "type": "category"
        },
        "yaxis": {
         "title": {
          "text": "Post_Drop_MAE"
         }
        }
       }
      }
     },
     "metadata": {},
     "output_type": "display_data"
    }
   ],
   "source": [
    "import os\n",
    "import pickle\n",
    "import numpy as np\n",
    "import pandas as pd\n",
    "import plotly.graph_objects as go\n",
    "\n",
    "# Get directories containing sensitivity analysis results\n",
    "all_feat_sens_dirs = [\n",
    "    d for d in os.listdir(\"MC_RESULTS\") if \"features_sensitivity_analysis\" in d\n",
    "]\n",
    "\n",
    "# Define a list of colors to cycle through\n",
    "colors = [\"blue\", \"red\", \"green\", \"orange\", \"purple\", \"cyan\", \"magenta\"]\n",
    "\n",
    "# Plot\n",
    "fig = go.Figure()\n",
    "\n",
    "# Track color index\n",
    "color_index = 0\n",
    "\n",
    "for result_dir in all_feat_sens_dirs:\n",
    "    print(result_dir)\n",
    "    for file in [max(os.listdir(os.path.join(\"MC_RESULTS\", result_dir)))]:\n",
    "        print(file)\n",
    "        with open(\n",
    "            os.path.join(\"MC_RESULTS\", result_dir, file), \"rb\"\n",
    "        ) as pickle_file:  # 'rb' means read in binary mode\n",
    "            parameters = pickle.load(pickle_file)\n",
    "\n",
    "        all_dropping_results = []\n",
    "        all_corr_sf = []\n",
    "        all_align_sf = []\n",
    "        for param in parameters:\n",
    "            # if param['classification_rand_score'] != 1:\n",
    "            #     print(param['classification_rand_score'])\n",
    "            all_dropping_results.append(\n",
    "                param[\"dropping_results\"][\n",
    "                    [\"Post_Drop_Alignments\", \"Post_Drop_MAE\", \"Mean_abs_coeff\"]\n",
    "                ]\n",
    "            )\n",
    "            all_corr_sf.append(param[\"corr_generalized_spearmans_footrol\"])\n",
    "            all_align_sf.append(param[\"align_generalized_spearmans_footrol\"])\n",
    "\n",
    "        df_0 = all_dropping_results[0]\n",
    "        for d in range(1, len(all_dropping_results)):\n",
    "            df_0 += all_dropping_results[d]\n",
    "        df_0 = df_0 / len(all_dropping_results)\n",
    "        df_0[\"Meata\"] = param[\"dropping_results\"][\"Meta\"]\n",
    "\n",
    "        print(\"Correlation_sf: \", np.mean(all_corr_sf))\n",
    "        print(\"Alignment sf:\", np.mean(all_align_sf))\n",
    "\n",
    "        # Separate average and non-average rows\n",
    "        df_avg = df_0[df_0[\"Meata\"].str.contains(\"avg\")].copy()\n",
    "        df_avg[\"Meata\"] = [s.replace(\" avg\", \"\") for s in df_avg[\"Meata\"]]\n",
    "        df_non_avg = df_0[~df_0[\"Meata\"].str.contains(\"avg\") & (df_0[\"Meata\"] != \"_\")]\n",
    "\n",
    "        # Get the horizontal line value (Post_Drop_MAE where Meata == '_')\n",
    "        horizontal_mae = df_0[df_0[\"Meata\"] == \"_\"][\"Post_Drop_MAE\"].iloc[0]\n",
    "\n",
    "        # Cycle through colors\n",
    "        current_color = colors[color_index % len(colors)]\n",
    "        color_index += 1\n",
    "\n",
    "        # Add non-avg MAE curve\n",
    "        fig.add_trace(\n",
    "            go.Scatter(\n",
    "                x=df_non_avg[\"Meata\"],\n",
    "                y=df_non_avg[\"Post_Drop_MAE\"],\n",
    "                mode=\"lines+markers\",\n",
    "                name=f\"Non-avg MAE ({result_dir})\",\n",
    "                line=dict(color=current_color, dash=\"dashdot\"),  # Dot-dash pattern\n",
    "                marker=dict(\n",
    "                    symbol=\"square\", size=6\n",
    "                ),  # Smaller square marker for non-avg\n",
    "            )\n",
    "        )\n",
    "\n",
    "        # Add avg MAE curve\n",
    "        fig.add_trace(\n",
    "            go.Scatter(\n",
    "                x=df_avg[\"Meata\"],\n",
    "                y=df_avg[\"Post_Drop_MAE\"],\n",
    "                mode=\"lines+markers\",\n",
    "                name=f\"Avg MAE ({result_dir})\",\n",
    "                line=dict(color=current_color, dash=\"dash\"),  # Dashed line\n",
    "                marker=dict(symbol=\"circle\", size=6),  # Smaller circle marker for avg\n",
    "            )\n",
    "        )\n",
    "\n",
    "        # Add horizontal line for avg\n",
    "        fig.add_shape(\n",
    "            type=\"line\",\n",
    "            x0=0,\n",
    "            x1=1,\n",
    "            y0=horizontal_mae,\n",
    "            y1=horizontal_mae,\n",
    "            xref=\"paper\",\n",
    "            yref=\"y\",\n",
    "            line=dict(color=current_color, width=2, dash=\"dash\"),\n",
    "            name=\"MAE of _\",\n",
    "        )\n",
    "\n",
    "# Update layout\n",
    "fig.update_layout(\n",
    "    title=\"Post_Drop_MAE Comparison\",\n",
    "    xaxis_title=\"Meata\",\n",
    "    yaxis_title=\"Post_Drop_MAE\",\n",
    "    legend_title=\"Legend\",\n",
    "    xaxis=dict(type=\"category\"),\n",
    "    template=\"plotly_white\",\n",
    ")\n",
    "\n",
    "# Show plot\n",
    "fig.show()"
   ]
  },
  {
   "cell_type": "markdown",
   "metadata": {},
   "source": [
    "# Processes trajectories sample plot"
   ]
  },
  {
   "cell_type": "code",
   "execution_count": 15,
   "metadata": {},
   "outputs": [],
   "source": [
    "plt.rc(\"text\", usetex=True)  # latex ticks\n",
    "plt.rc(\"text.latex\")\n",
    "plt.rcParams[\"axes.unicode_minus\"] = False\n",
    "plt.rcParams.update(\n",
    "    {\n",
    "        \"text.usetex\": True,\n",
    "        \"font.family\": \"serif\",\n",
    "        \"font.serif\": [\"Computer Modern\"],\n",
    "    }\n",
    ")\n",
    "plt.rcParams[\"axes.linewidth\"] = 0.4\n",
    "plt.rcParams[\"xtick.major.width\"] = 0.4\n",
    "plt.rcParams[\"xtick.minor.width\"] = 0.2\n",
    "plt.rcParams[\"ytick.major.width\"] = 0.4\n",
    "plt.rcParams[\"ytick.minor.width\"] = 0.2\n",
    "\n",
    "Slide_show_width = 4.71512\n",
    "Paper_width = 6.30045\n",
    "Format = 1\n",
    "if Format == 0:\n",
    "    Image_width = Slide_show_width\n",
    "if Format == 1:\n",
    "    Image_width = Paper_width\n",
    "# plt.rcParams.update({\n",
    "#     \"text.usetex\": True,\n",
    "#     \"font.family\": \"sans-serif\",\n",
    "#     \"font.sans-serif\": \"Helvetica\",\n",
    "# })\n",
    "\n",
    "EXTRA_SMALL = 4\n",
    "SMALL_SIZE = 5\n",
    "MEDIUM_SIZE = 6\n",
    "BIGGER_SIZE = 9\n",
    "\n",
    "plt.rc(\"font\", size=EXTRA_SMALL)  # controls default text sizes\n",
    "plt.rc(\"axes\", titlesize=MEDIUM_SIZE)  # fontsize of the axes title\n",
    "plt.rc(\"axes\", labelsize=SMALL_SIZE)  # fontsize of the x and y labels\n",
    "plt.rc(\"xtick\", labelsize=EXTRA_SMALL)  # fontsize of the tick labels\n",
    "plt.rc(\"ytick\", labelsize=EXTRA_SMALL)  # fontsize of the tick labels\n",
    "plt.rc(\"legend\", fontsize=EXTRA_SMALL)  # legend fontsize\n",
    "plt.rc(\"figure\", titlesize=BIGGER_SIZE)  # fontsize of the figure title"
   ]
  },
  {
   "cell_type": "code",
   "execution_count": 25,
   "metadata": {},
   "outputs": [
    {
     "data": {
      "image/png": "[encoded data removed]",
      "text/plain": [
       "<Figure size 640x480 with 1 Axes>"
      ]
     },
     "metadata": {},
     "output_type": "display_data"
    },
    {
     "data": {
      "image/png": "[encoded data removed]",
      "text/plain": [
       "<Figure size 640x480 with 1 Axes>"
      ]
     },
     "metadata": {},
     "output_type": "display_data"
    }
   ],
   "source": [
    "from processes_generators.arx_processes import generate_ARX_multiexog\n",
    "\n",
    "n_features = 60\n",
    "alphas = [0.1, 0.9]\n",
    "sample_len = 101\n",
    "step_seed = 1029\n",
    "\n",
    "for alpha in alphas:\n",
    "    fig = plt.figure()\n",
    "    # Parameters for the multidimensional distributions\n",
    "    mean_1 = np.zeros(int(n_features / 3))  # Mean vector for the first distribution\n",
    "    mean_2 = np.zeros(int(n_features / 3))  # Mean vector for the second distribution\n",
    "    mean_3 = np.zeros(int(n_features / 3))  # Mean vector for the third distribution\n",
    "\n",
    "    cov_1 = (\n",
    "        np.eye(int(n_features / 3)) * 1\n",
    "    )  # Covariance matrix for the first distribution, 3 is the variance TODO vary the correlation coeffs\n",
    "    cov_1[cov_1 == 0] = 0.9\n",
    "    cov_2 = (\n",
    "        np.eye(int(n_features / 3)) * 1\n",
    "    )  # Covariance matrix for the second distribution\n",
    "    cov_2[cov_2 == 0] = 0.9\n",
    "    cov_3 = (\n",
    "        np.eye(int(n_features / 3)) * 1\n",
    "    )  # Covariance matrix for the third distribution\n",
    "    cov_3[cov_3 == 0] = 0.9\n",
    "\n",
    "    # Generate multidimensional samples\n",
    "    X_features = [\n",
    "        np.random.multivariate_normal(mean_1, cov_1, sample_len).T,\n",
    "        np.random.multivariate_normal(mean_2, cov_2, sample_len).T,\n",
    "        np.random.multivariate_normal(mean_3, cov_3, sample_len).T,\n",
    "    ]\n",
    "\n",
    "    X_labels = [\n",
    "        0 * np.ones(int(n_features / 3)),\n",
    "        np.ones(int(n_features / 3)),\n",
    "        2 * np.ones(int(n_features / 3)),\n",
    "    ]\n",
    "\n",
    "    # Flatten the list to have all features in a single list\n",
    "    X_features = [x for group in X_features for x in group]\n",
    "    X_labels = [x for group in X_labels for x in group]\n",
    "    # Generate ARX series\n",
    "    rng = np.random.default_rng(seed=step_seed)\n",
    "    exog_coeff = rng.uniform(-1, 1, n_features)\n",
    "    Y = generate_ARX_multiexog(\n",
    "        [alpha], exog_coeff, 1, X_features, sample_len, step_seed\n",
    "    )\n",
    "\n",
    "    Y = (Y - np.mean(Y)) / np.std(Y)\n",
    "\n",
    "    plt.plot(Y)\n",
    "\n",
    "    Y = np.exp(Y)\n",
    "    Y = (Y - np.mean(Y)) / np.std(Y)\n",
    "\n",
    "    plt.plot(Y)"
   ]
  },
  {
   "cell_type": "code",
   "execution_count": 41,
   "metadata": {},
   "outputs": [
    {
     "data": {
      "image/png": "[encoded data removed]",
      "text/plain": [
       "<Figure size 630.045x315.022 with 2 Axes>"
      ]
     },
     "metadata": {},
     "output_type": "display_data"
    }
   ],
   "source": [
    "from processes_generators.arx_processes import generate_ARX_multiexog\n",
    "import matplotlib.pyplot as plt\n",
    "import numpy as np\n",
    "\n",
    "n_features = 60\n",
    "alphas = [0.1, 0.9]\n",
    "sample_len = 101\n",
    "step_seed = 300\n",
    "\n",
    "# Create a figure with two subplots (1 row, 2 columns)\n",
    "fig, axes = plt.subplots(\n",
    "    2, 1, figsize=(Paper_width, 0.5 * Paper_width), constrained_layout=True\n",
    ")\n",
    "\n",
    "for idx, alpha in enumerate(alphas):\n",
    "    ax = axes[idx]  # Select the corresponding subplot\n",
    "\n",
    "    # Parameters for the multidimensional distributions\n",
    "    mean_1 = np.zeros(int(n_features / 3))  # Mean vector for the first distribution\n",
    "    mean_2 = np.zeros(int(n_features / 3))  # Mean vector for the second distribution\n",
    "    mean_3 = np.zeros(int(n_features / 3))  # Mean vector for the third distribution\n",
    "\n",
    "    cov_1 = (\n",
    "        np.eye(int(n_features / 3)) * 1\n",
    "    )  # Covariance matrix for the first distribution\n",
    "    cov_1[cov_1 == 0] = 0.9\n",
    "    cov_2 = (\n",
    "        np.eye(int(n_features / 3)) * 1\n",
    "    )  # Covariance matrix for the second distribution\n",
    "    cov_2[cov_2 == 0] = 0.9\n",
    "    cov_3 = (\n",
    "        np.eye(int(n_features / 3)) * 1\n",
    "    )  # Covariance matrix for the third distribution\n",
    "    cov_3[cov_3 == 0] = 0.9\n",
    "\n",
    "    rng = np.random.default_rng(seed=step_seed)\n",
    "    part_1 = rng.multivariate_normal(mean_1, cov_1, sample_len).T\n",
    "    rng = np.random.default_rng(seed=step_seed)\n",
    "    part_2 = rng.multivariate_normal(mean_2, cov_2, sample_len).T\n",
    "    rng = np.random.default_rng(seed=step_seed)\n",
    "    part_3 = rng.multivariate_normal(mean_3, cov_3, sample_len).T\n",
    "    # Generate multidimensional samples\n",
    "    X_features = [part_1, part_2, part_3]\n",
    "\n",
    "    X_labels = [\n",
    "        0 * np.ones(int(n_features / 3)),\n",
    "        np.ones(int(n_features / 3)),\n",
    "        2 * np.ones(int(n_features / 3)),\n",
    "    ]\n",
    "\n",
    "    # Flatten the list to have all features in a single list\n",
    "    X_features = [x for group in X_features for x in group]\n",
    "    X_labels = [x for group in X_labels for x in group]\n",
    "\n",
    "    # Generate ARX series\n",
    "    rng = np.random.default_rng(seed=step_seed)\n",
    "    exog_coeff = rng.uniform(-1, 1, n_features)\n",
    "    Y = generate_ARX_multiexog(\n",
    "        [alpha], exog_coeff, 1, X_features, sample_len, step_seed\n",
    "    )\n",
    "\n",
    "    Y = (Y - np.mean(Y)) / np.std(Y)\n",
    "    Y = np.exp(Y)\n",
    "    Y = (Y - np.mean(Y)) / np.std(Y)\n",
    "\n",
    "    ax.plot(Y)\n",
    "\n",
    "    ax.set_title(f\"Alpha = {alpha}\")\n",
    "    ax.set_xlabel(\"Time Step\")\n",
    "    ax.set_ylabel(\"Value\")\n",
    "\n",
    "# Add a common title for the figure\n",
    "plt.savefig(\"ANALYSIS_PLOTS/trajectory_features_sensitivity.pdf\", bbox_inches=\"tight\")"
   ]
  },
  {
   "cell_type": "code",
   "execution_count": 42,
   "metadata": {},
   "outputs": [
    {
     "data": {
      "image/png": "[encoded data removed]",
      "text/plain": [
       "<Figure size 630.045x630.045 with 4 Axes>"
      ]
     },
     "metadata": {},
     "output_type": "display_data"
    },
    {
     "data": {
      "image/png": "[encoded data removed]",
      "text/plain": [
       "<Figure size 630.045x630.045 with 4 Axes>"
      ]
     },
     "metadata": {},
     "output_type": "display_data"
    }
   ],
   "source": [
    "from processes_generators.generate_sample_and_predictors import (\n",
    "    generate_sample_and_predictors,\n",
    ")\n",
    "import matplotlib.pyplot as plt\n",
    "\n",
    "mc_config = prod_mc_config\n",
    "seed = 300\n",
    "\n",
    "title_map = {\n",
    "    \"ARX_noshock\": \"ARX\",\n",
    "    \"ARX_exp_noshock\": \"exponential ARX\",\n",
    "    \"ARX\": \"shocked ARX\",\n",
    "    \"ARX_exp\": \"exponential shocked ARX\",\n",
    "    \"AR_noshock\": \"AR\",\n",
    "    \"AR_exp_noshock\": \"exponential AR\",\n",
    "    \"AR\": \"shocked AR\",\n",
    "    \"AR_exp\": \"exponential shocked AR\",\n",
    "}\n",
    "\n",
    "alphas = [0.1, 0.5, 0.9]\n",
    "\n",
    "for models_group in [\n",
    "    [\"ARX_noshock\", \"ARX_exp_noshock\", \"ARX\", \"ARX_exp\"],\n",
    "    [\"AR_noshock\", \"AR_exp_noshock\", \"AR\", \"AR_exp\"],\n",
    "]:\n",
    "    # Determine the number of models to create subplots\n",
    "    num_models = len(models_group)\n",
    "\n",
    "    fig, axes = plt.subplots(\n",
    "        num_models, 1, figsize=(Paper_width, Paper_width), constrained_layout=True\n",
    "    )\n",
    "\n",
    "    for model_index, model in enumerate(models_group):\n",
    "        ax = axes[model_index] if num_models > 1 else axes  # Handle single subplot case\n",
    "\n",
    "        for params_index, models_params in enumerate(\n",
    "            mc_config[\"model_params_sets\"][model]\n",
    "        ):\n",
    "            # Assuming models_params contains the AR coefficients\n",
    "            ar_coeffs = models_params.get(\n",
    "                \"AR_coefficients\", [0.0]\n",
    "            )  # Adjust key if necessary\n",
    "\n",
    "            X, Y = generate_sample_and_predictors(model, models_params, 101, seed)\n",
    "            ax.plot(Y, label=f\"{alphas[params_index]}\", lw=0.7)\n",
    "\n",
    "        ax.set_title(title_map[model])\n",
    "        ax.set_xlabel(\"Time Step\")\n",
    "        ax.set_ylabel(\"Value\")\n",
    "        ax.legend(title=\"AR coefficient:\")\n",
    "\n",
    "    # Add a common title for the figure\n",
    "    plt.savefig(\"ANALYSIS_PLOTS/trajectory_params_sensitivity.pdf\", bbox_inches=\"tight\")"
   ]
  }
 ],
 "metadata": {
  "kernelspec": {
   "display_name": "contmarket311",
   "language": "python",
   "name": "python3"
  },
  "language_info": {
   "codemirror_mode": {
    "name": "ipython",
    "version": 3
   },
   "file_extension": ".py",
   "mimetype": "text/x-python",
   "name": "python",
   "nbconvert_exporter": "python",
   "pygments_lexer": "ipython3",
   "version": "3.11.1"
  }
 },
 "nbformat": 4,
 "nbformat_minor": 2
}
